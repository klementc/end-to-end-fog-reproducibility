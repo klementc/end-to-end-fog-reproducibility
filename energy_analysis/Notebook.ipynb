{
 "cells": [
  {
   "cell_type": "code",
   "execution_count": 2,
   "metadata": {},
   "outputs": [],
   "source": [
    "options(warn=-1)\n",
    "library(plyr); library(dplyr)\n",
    "library(ggplot2)\n",
    "library(tidyr)\n",
    "library(gridExtra)\n",
    "library(ggpubr)\n",
    "library(plotly)\n",
    "library(ggquadrilateral)\n",
    "library(cowplot)\n",
    "library(ggsci)\n",
    "library(reshape2)\n",
    "library(stringr)\n",
    "library(scales)\n",
    "\n",
    "setwd(\"/home/clem/Code/github.com/klementc/end-to-end-fog-reproducibility/energy_analysis/\")"
   ]
  },
  {
   "cell_type": "markdown",
   "metadata": {},
   "source": [
    "# Table VI"
   ]
  },
  {
   "cell_type": "code",
   "execution_count": 3,
   "metadata": {},
   "outputs": [
    {
     "name": "stdout",
     "output_type": "stream",
     "text": [
      "[1] \"out_cloud_14APPS_video_cloud_2_125000.0_10_tcp com durFirst  mean: 0.331363303907381 com durRest  mean: 0.0165786289080351 exec dur  mean: 0.009375 energy links: 66050.665 hosts:  428771.786875\"\n",
      "[1] \"out_cloud_14APPS_video_cloud_2_125000.0_10_udp com durFirst  mean: 0.0787397235890014 com durRest  mean: 0.00485538040107505 exec dur  mean: 0.009375 energy links: 65651.002 hosts:  428540.07625\"\n",
      "[1] \"out_cloud_14APPS_video_cloud_5_125000.0_10_tcp com durFirst  mean: 0.526466890866985 com durRest  mean: 0.0166165678852254 exec dur  mean: 0.009375 energy links: 66698.732 hosts:  434088.6390625\"\n",
      "[1] \"out_cloud_14APPS_video_cloud_5_125000.0_10_udp com durFirst  mean: 0.0945054327062229 com durRest  mean: 0.00486450155054786 exec dur  mean: 0.009375 energy links: 66313.386 hosts:  434084.190625\"\n",
      "[1] \"out_cloud_14APPS_video_cloud_7_125000.0_10_tcp com durFirst  mean: 0.656613303907381 com durRest  mean: 0.0165791996229193 exec dur  mean: 0.009375 energy links: 72750.654 hosts:  437893.6384375\"\n",
      "[1] \"out_cloud_14APPS_video_cloud_7_125000.0_10_udp com durFirst  mean: 0.10484777568741 com durRest  mean: 0.00486808042174902 exec dur  mean: 0.009375 energy links: 66738.703 hosts:  437769.266875\"\n",
      "[1] \"out_fog_14APPS_video_fog_2ms_125000.0_10_tcp com durFirst  mean: 0.161851836734694 com durRest  mean: 0.0742072924170724 exec dur  mean: 0.148499322568145 energy links: 70200.99861 hosts:  368493.7\"\n",
      "[1] \"out_fog_14APPS_video_fog_2ms_125000.0_10_udp com durFirst  mean: 0.0705173265306122 com durRest  mean: 0.0214174940203504 exec dur  mean: 0.148918462041448 energy links: 67041.99694 hosts:  368493.7\"\n",
      "[1] \"out_fog_14APPS_video_fog_5ms_125000.0_10_tcp com durFirst  mean: 0.197190367346939 com durRest  mean: 0.148113860750753 exec dur  mean: 0.149006973238309 energy links: 70833.25806 hosts:  368480.7\"\n",
      "[1] \"out_fog_14APPS_video_fog_5ms_125000.0_10_udp com durFirst  mean: 0.0734670612244898 com durRest  mean: 0.0270265965652216 exec dur  mean: 0.148617403926128 energy links: 68026.1334 hosts:  368493.7\"\n"
     ]
    }
   ],
   "source": [
    "options(repr.plot.width=20, repr.plot.height=10)\n",
    "\n",
    "vr <- c(\n",
    "\"out_cloud_14APPS_video_cloud_2_125000.0_10_tcp\",\n",
    "\"out_cloud_14APPS_video_cloud_2_125000.0_10_udp\",\n",
    "\"out_cloud_14APPS_video_cloud_5_125000.0_10_tcp\",\n",
    "\"out_cloud_14APPS_video_cloud_5_125000.0_10_udp\",\n",
    "\"out_cloud_14APPS_video_cloud_7_125000.0_10_tcp\",\n",
    "\"out_cloud_14APPS_video_cloud_7_125000.0_10_udp\",\n",
    "\"out_fog_14APPS_video_fog_2ms_125000.0_10_tcp\",\n",
    "\"out_fog_14APPS_video_fog_2ms_125000.0_10_udp\",\n",
    "\"out_fog_14APPS_video_fog_5ms_125000.0_10_tcp\",\n",
    "\"out_fog_14APPS_video_fog_5ms_125000.0_10_udp\"\n",
    ")\n",
    "\n",
    "g1 <- ggplot()\n",
    "for (i in vr) { \n",
    "    isFog <- str_detect(i, 'fog')\n",
    "    d_comDur <- as_tibble(read.csv(paste(\"./res/\",i,\"_comDurs.csv\", sep=\"\")))\n",
    "    d_energy <- as_tibble(read.csv(paste(\"./res/\",i,\"_energy.csv\", sep=\"\")))\n",
    "    d_execDur <- as_tibble(read.csv(paste(\"./res/\",i,\"_execDurs.csv\", sep=\"\")))\n",
    "    d_endToEnd <- as_tibble(read.csv(paste(\"./res/\",i,\"_EndToEnd.csv\", sep=\"\"))) %>% mutate(pref=i)\n",
    "    d_endToEndf <- d_endToEnd %>% filter(end>150)\n",
    "    d_comDurf <- d_comDur %>% filter(end>150)\n",
    "    d_comDurfirst <- d_comDurf %>% filter(dst==\"ETM0_MOTION_DETECT\")\n",
    "    d_comDurOther <- d_comDurf %>% filter(dst!=\"ETM0_MOTION_DETECT\")\n",
    "    d_execDurf <- d_execDur %>% filter(end>150)\n",
    "    \n",
    "    \n",
    "    \n",
    "\n",
    "    d_reqS <- as_tibble(read.csv(paste(\"./res/\",i,\"_reqTot.csv\", sep=\"\")))\n",
    "    capRouterCore <- (48e+9 / 8)\n",
    "        if (isFog) {\n",
    "            propConsCore <- 0\n",
    "        } else {\n",
    "            propConsCore  <- (d_reqS$sizeTot/270)/capRouterCore\n",
    "        }\n",
    "    energyEndUsers <- d_energy$staHostsEnergy+d_energy$wifiRouterEnergy\n",
    "    energyCloud   <- d_energy$cloudHostsEnergy+ (propConsCore*d_energy$coreRouterEnergy)\n",
    "    energyEdge    <- d_energy$edgeHostsEnergy \n",
    "    energyNetwork <- d_energy$cloudLinkEnergy+d_energy$edgeLinkEnergy+d_energy$backboneLinkEnergy + d_energy$collectorLinkEnergy + d_energy$coreLinkEnergy+d_energy$wifiLinkEnergy\n",
    "\n",
    "\n",
    "    #en_link <- d_energy$wifiLinkEnergy+d_energy$cloudLinkEnergy+d_energy$edgeLinkEnergy+d_energy$backboneLinkEnergy+d_energy$collectorLinkEnergy+d_energy$coreLinkEnergy\n",
    "    #en_host <- d_energy$cloudHostsEnergy+d_energy$edgeHostsEnergy+d_energy$staHostsEnergy+d_energy$wifiRouterEnergy+d_energy$coreRouterEnergy\n",
    "    print(paste(i,  \"com durFirst\", \" mean:\",mean(d_comDurfirst$dur),\n",
    "                    #\"end-to-end\", \" mean:\",mean(d_endToEndf$dur),\n",
    "                    \"com durRest\", \" mean:\",mean(d_comDurOther$dur),\n",
    "                    \"exec dur\", \" mean:\",mean(d_execDur$dur),\n",
    "                    \"energy links:\",energyNetwork, \"hosts: \",energyEdge+energyCloud+energyEndUsers))\n",
    "\n",
    "}"
   ]
  },
  {
   "cell_type": "code",
   "execution_count": null,
   "metadata": {},
   "outputs": [],
   "source": []
  }
 ],
 "metadata": {
  "kernelspec": {
   "display_name": "R",
   "language": "R",
   "name": "ir"
  },
  "language_info": {
   "codemirror_mode": "r",
   "file_extension": ".r",
   "mimetype": "text/x-r-source",
   "name": "R",
   "pygments_lexer": "r",
   "version": "4.0.5"
  }
 },
 "nbformat": 4,
 "nbformat_minor": 4
}
